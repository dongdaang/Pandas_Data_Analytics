{
 "cells": [
  {
   "cell_type": "code",
   "execution_count": 1,
   "metadata": {},
   "outputs": [],
   "source": [
    "import seaborn as sns"
   ]
  },
  {
   "cell_type": "markdown",
   "metadata": {},
   "source": [
    "## 열 순서 변경"
   ]
  },
  {
   "cell_type": "code",
   "execution_count": 4,
   "metadata": {},
   "outputs": [
    {
     "name": "stdout",
     "output_type": "stream",
     "text": [
      "   survived  pclass     sex   age\n",
      "0         0       3    male  22.0\n",
      "1         1       1  female  38.0\n",
      "2         1       3  female  26.0\n",
      "3         1       1  female  35.0\n",
      "4         0       3    male  35.0\n"
     ]
    }
   ],
   "source": [
    "titanic = sns.load_dataset('titanic')\n",
    "df = titanic.loc[0:4, 'survived':'age']    #파이썬 리스트 슬라이싱과 다르게 마지막 범위 값이 포함됨\n",
    "print(df)"
   ]
  },
  {
   "cell_type": "code",
   "execution_count": 5,
   "metadata": {},
   "outputs": [
    {
     "name": "stdout",
     "output_type": "stream",
     "text": [
      "['survived', 'pclass', 'sex', 'age'] \n",
      "\n"
     ]
    }
   ],
   "source": [
    "# 열 이름의 리스트 만들기\n",
    "columns = list(df.columns.values)   #기존 열 이름\n",
    "print(columns, '\\n')"
   ]
  },
  {
   "cell_type": "code",
   "execution_count": 7,
   "metadata": {},
   "outputs": [
    {
     "name": "stdout",
     "output_type": "stream",
     "text": [
      "    age  pclass     sex  survived\n",
      "0  22.0       3    male         0\n",
      "1  38.0       1  female         1\n",
      "2  26.0       3  female         1\n",
      "3  35.0       1  female         1\n",
      "4  35.0       3    male         0\n"
     ]
    }
   ],
   "source": [
    "columns_sorted = sorted(columns)    #알파벳 순으로 정렬\n",
    "df_sorted = df[columns_sorted]\n",
    "print(df_sorted)"
   ]
  },
  {
   "cell_type": "code",
   "execution_count": 8,
   "metadata": {},
   "outputs": [
    {
     "name": "stdout",
     "output_type": "stream",
     "text": [
      "    age     sex  pclass  survived\n",
      "0  22.0    male       3         0\n",
      "1  38.0  female       1         1\n",
      "2  26.0  female       3         1\n",
      "3  35.0  female       1         1\n",
      "4  35.0    male       3         0\n"
     ]
    }
   ],
   "source": [
    "# 열 이름을 기존 순서의 정반대 역순으로 정렬하기\n",
    "columns_reversed = list(reversed(columns))  \n",
    "df_reversed = df[columns_reversed]\n",
    "print(df_reversed)"
   ]
  },
  {
   "cell_type": "code",
   "execution_count": 9,
   "metadata": {},
   "outputs": [
    {
     "name": "stdout",
     "output_type": "stream",
     "text": [
      "   pclass     sex   age  survived\n",
      "0       3    male  22.0         0\n",
      "1       1  female  38.0         1\n",
      "2       3  female  26.0         1\n",
      "3       1  female  35.0         1\n",
      "4       3    male  35.0         0\n"
     ]
    }
   ],
   "source": [
    "# 열 이름을 사용자가 정의한 임의의 순서로 재배치하기\n",
    "columns_customed = ['pclass', 'sex', 'age', 'survived']  \n",
    "df_customed = df[columns_customed]\n",
    "print(df_customed)"
   ]
  },
  {
   "cell_type": "markdown",
   "metadata": {},
   "source": [
    "## 열 분리"
   ]
  },
  {
   "cell_type": "code",
   "execution_count": 11,
   "metadata": {},
   "outputs": [
    {
     "name": "stdout",
     "output_type": "stream",
     "text": [
      "         연월일   당일종가  전일종가     시가     고가     저가     거래량\n",
      "0 2018-07-02  10100   600  10850  10900  10000  137977\n",
      "1 2018-06-29  10700   300  10550  10900   9990  170253\n",
      "2 2018-06-28  10400   500  10900  10950  10150  155769\n",
      "3 2018-06-27  10900   100  10800  11050  10500  133548\n",
      "4 2018-06-26  10800   350  10900  11000  10700   63039 \n",
      "\n",
      "연월일     datetime64[ns]\n",
      "당일종가             int64\n",
      "전일종가             int64\n",
      "시가               int64\n",
      "고가               int64\n",
      "저가               int64\n",
      "거래량              int64\n",
      "dtype: object \n",
      "\n",
      "0    [2018, 07, 02]\n",
      "1    [2018, 06, 29]\n",
      "2    [2018, 06, 28]\n",
      "3    [2018, 06, 27]\n",
      "4    [2018, 06, 26]\n",
      "Name: 연월일, dtype: object\n"
     ]
    }
   ],
   "source": [
    "import pandas as pd\n",
    "\n",
    "df = pd.read_excel('part6/주가데이터.xlsx', engine= 'openpyxl')\n",
    "print(df.head(), '\\n')\n",
    "print(df.dtypes, '\\n')\n",
    "\n",
    "# 연, 월, 일 데이터 분리하기\n",
    "df['연월일'] = df['연월일'].astype('str')   # 시간형 데이터를 문자열로 변경\n",
    "dates = df['연월일'].str.split('-')        # 문자열을 split() 메서드로 분리\n",
    "print(dates.head())"
   ]
  },
  {
   "cell_type": "code",
   "execution_count": 12,
   "metadata": {},
   "outputs": [
    {
     "name": "stdout",
     "output_type": "stream",
     "text": [
      "          연월일   당일종가  전일종가     시가     고가     저가     거래량     연   월   일\n",
      "0  2018-07-02  10100   600  10850  10900  10000  137977  2018  07  02\n",
      "1  2018-06-29  10700   300  10550  10900   9990  170253  2018  06  29\n",
      "2  2018-06-28  10400   500  10900  10950  10150  155769  2018  06  28\n",
      "3  2018-06-27  10900   100  10800  11050  10500  133548  2018  06  27\n",
      "4  2018-06-26  10800   350  10900  11000  10700   63039  2018  06  26\n"
     ]
    }
   ],
   "source": [
    "# 분리된 정보를 각각 새로운 열에 담아서 df에 추가하기\n",
    "df['연'] = dates.str.get(0)     # dates 변수의 원소 리스트의 0번째 인덱스 값\n",
    "df['월'] = dates.str.get(1)     # dates 변수의 원소 리스트의 1번째 인덱스 값 \n",
    "df['일'] = dates.str.get(2)     # dates 변수의 원소 리스트의 2번째 인덱스 값\n",
    "print(df.head())"
   ]
  }
 ],
 "metadata": {
  "kernelspec": {
   "display_name": "Python 3",
   "language": "python",
   "name": "python3"
  },
  "language_info": {
   "codemirror_mode": {
    "name": "ipython",
    "version": 3
   },
   "file_extension": ".py",
   "mimetype": "text/x-python",
   "name": "python",
   "nbconvert_exporter": "python",
   "pygments_lexer": "ipython3",
   "version": "3.7.7"
  }
 },
 "nbformat": 4,
 "nbformat_minor": 4
}
